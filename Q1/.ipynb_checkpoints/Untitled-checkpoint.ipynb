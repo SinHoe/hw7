{
 "cells": [
  {
   "cell_type": "code",
   "execution_count": 20,
   "id": "cd3c3353",
   "metadata": {},
   "outputs": [
    {
     "name": "stdout",
     "output_type": "stream",
     "text": [
      "Eigenvalues:  [-0.37228132  5.37228132]\n",
      "Egernvectors:  [[-0.82456484 -0.41597356]\n",
      " [ 0.56576746 -0.90937671]]\n",
      "Determinant:  -2.0\n"
     ]
    }
   ],
   "source": [
    "import numpy as np\n",
    "\n",
    "if __name__ == \"__main__\":\n",
    "    \n",
    "    arr = np.arange(1,5).reshape(2,2)\n",
    "    arr_evalues,arr_evectors = np.linalg.eig(arr)\n",
    "    arr_det = round(np.linalg.det(arr),8)\n",
    "    print(\"Eigenvalues: \",arr_evalues)\n",
    "    print(\"Egernvectors: \",arr_evectors)\n",
    "    print(\"Determinant: \",arr_det)\n",
    "    \n"
   ]
  },
  {
   "cell_type": "code",
   "execution_count": null,
   "id": "b0c5261b",
   "metadata": {},
   "outputs": [],
   "source": []
  }
 ],
 "metadata": {
  "kernelspec": {
   "display_name": "Python 3 (ipykernel)",
   "language": "python",
   "name": "python3"
  },
  "language_info": {
   "codemirror_mode": {
    "name": "ipython",
    "version": 3
   },
   "file_extension": ".py",
   "mimetype": "text/x-python",
   "name": "python",
   "nbconvert_exporter": "python",
   "pygments_lexer": "ipython3",
   "version": "3.9.13"
  }
 },
 "nbformat": 4,
 "nbformat_minor": 5
}
