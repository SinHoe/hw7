{
 "cells": [
  {
   "cell_type": "code",
   "execution_count": 12,
   "id": "cd3c3353",
   "metadata": {},
   "outputs": [
    {
     "name": "stdout",
     "output_type": "stream",
     "text": [
      "Eigenvalues: \n",
      " [-0.37228132  5.37228132]\n",
      "Egernvectors: \n",
      " [[-0.82456484 -0.41597356]\n",
      " [ 0.56576746 -0.90937671]]\n",
      "Determinant: \n",
      " -2.0\n",
      "Cross product: \n",
      " [-3  6 -3]\n",
      "Solution: \n",
      " [[-1.]\n",
      " [-4.]\n",
      " [ 3.]]\n"
     ]
    }
   ],
   "source": [
    "import numpy as np\n",
    "\n",
    "if __name__ == \"__main__\":\n",
    "    \n",
    "    arr = np.arange(1,5).reshape(2,2)\n",
    "    arr_evalues,arr_evectors = np.linalg.eig(arr)\n",
    "    arr_det = round(np.linalg.det(arr),8)\n",
    "    print(\"Eigenvalues: \\n\",arr_evalues)\n",
    "    print(\"Egernvectors: \\n\",arr_evectors)\n",
    "    print(\"Determinant: \\n\",arr_det)\n",
    "    \n",
    "    vec1 = np.arange(1,4)\n",
    "    vec2 = np.arange(4,7)\n",
    "    cross1_2 = np.cross(vec1,vec2)\n",
    "    print(\"Cross product: \\n\",cross1_2)\n",
    "    \n",
    "    A = np.array([[1,2,-2],[2,1,-5],[1,-4,1]])\n",
    "    b = np.array([-15,-21,18]).reshape(3,1)\n",
    "    x = np.linalg.solve(A,b)\n",
    "    print(\"Solution: \\n\",x)\n",
    "    \n",
    "    \n"
   ]
  },
  {
   "cell_type": "code",
   "execution_count": null,
   "id": "b0c5261b",
   "metadata": {},
   "outputs": [],
   "source": []
  }
 ],
 "metadata": {
  "kernelspec": {
   "display_name": "Python 3 (ipykernel)",
   "language": "python",
   "name": "python3"
  },
  "language_info": {
   "codemirror_mode": {
    "name": "ipython",
    "version": 3
   },
   "file_extension": ".py",
   "mimetype": "text/x-python",
   "name": "python",
   "nbconvert_exporter": "python",
   "pygments_lexer": "ipython3",
   "version": "3.9.13"
  }
 },
 "nbformat": 4,
 "nbformat_minor": 5
}
