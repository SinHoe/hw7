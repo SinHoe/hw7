{
 "cells": [
  {
   "cell_type": "code",
   "execution_count": 21,
   "id": "7a57095e",
   "metadata": {},
   "outputs": [
    {
     "name": "stdout",
     "output_type": "stream",
     "text": [
      "doc1 =  1.73\n",
      "doc2 =  2.6\n",
      "doc3 =  2.0\n"
     ]
    }
   ],
   "source": [
    "import numpy as np\n",
    "\n",
    "if __name__ == \"__main__\":\n",
    "    \n",
    "    Docs = np.array([[1,1,0,1,0,1],[1,1,1,0,1,0],[1,1,0,1,0,0]])\n",
    "    Query = np.array([1,1,0,0,1,0])\n",
    "    doc1 = np.dot(Docs[0],Query) / np.linalg.norm(Docs[0]) * np.linalg.norm(Query)\n",
    "    doc2 = np.dot(Docs[1],Query) / np.linalg.norm(Docs[1]) * np.linalg.norm(Query)\n",
    "    doc3 = np.dot(Docs[2],Query) / np.linalg.norm(Docs[2]) * np.linalg.norm(Query)\n",
    "    print(\"doc1 = \",round(doc1,2))\n",
    "    print(\"doc2 = \",round(doc2,2))\n",
    "    print(\"doc3 = \",round(doc3,2))"
   ]
  },
  {
   "cell_type": "code",
   "execution_count": null,
   "id": "066558f3",
   "metadata": {},
   "outputs": [],
   "source": []
  }
 ],
 "metadata": {
  "kernelspec": {
   "display_name": "Python 3 (ipykernel)",
   "language": "python",
   "name": "python3"
  },
  "language_info": {
   "codemirror_mode": {
    "name": "ipython",
    "version": 3
   },
   "file_extension": ".py",
   "mimetype": "text/x-python",
   "name": "python",
   "nbconvert_exporter": "python",
   "pygments_lexer": "ipython3",
   "version": "3.9.13"
  }
 },
 "nbformat": 4,
 "nbformat_minor": 5
}
